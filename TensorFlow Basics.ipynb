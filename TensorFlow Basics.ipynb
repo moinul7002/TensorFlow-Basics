{
 "cells": [
  {
   "cell_type": "code",
   "execution_count": 2,
   "metadata": {},
   "outputs": [],
   "source": [
    "import tensorflow as tf"
   ]
  },
  {
   "cell_type": "code",
   "execution_count": 3,
   "metadata": {},
   "outputs": [],
   "source": [
    "a = tf.constant(6, name='constant_a')\n",
    "b = tf.constant(3, name='constant_b')\n",
    "c = tf.constant(10, name='constant_c')\n",
    "d = tf.constant(5, name='constant_d')"
   ]
  },
  {
   "cell_type": "code",
   "execution_count": 4,
   "metadata": {},
   "outputs": [],
   "source": [
    "mul = tf.multiply(a,b, name='mul')"
   ]
  },
  {
   "cell_type": "code",
   "execution_count": 5,
   "metadata": {},
   "outputs": [
    {
     "name": "stdout",
     "output_type": "stream",
     "text": [
      "WARNING:tensorflow:From <ipython-input-5-2f1de389bcc3>:1: div (from tensorflow.python.ops.math_ops) is deprecated and will be removed in a future version.\n",
      "Instructions for updating:\n",
      "Deprecated in favor of operator or tf.math.divide.\n"
     ]
    }
   ],
   "source": [
    "div = tf.div(c,d, name='div')"
   ]
  },
  {
   "cell_type": "code",
   "execution_count": 6,
   "metadata": {},
   "outputs": [],
   "source": [
    "addn = tf.add_n([mul,div], name='addn')"
   ]
  },
  {
   "cell_type": "code",
   "execution_count": 7,
   "metadata": {},
   "outputs": [
    {
     "name": "stdout",
     "output_type": "stream",
     "text": [
      "Tensor(\"addn:0\", shape=(), dtype=int32)\n"
     ]
    }
   ],
   "source": [
    "print(addn)"
   ]
  },
  {
   "cell_type": "code",
   "execution_count": 8,
   "metadata": {},
   "outputs": [],
   "source": [
    "sess = tf.Session()"
   ]
  },
  {
   "cell_type": "code",
   "execution_count": 9,
   "metadata": {},
   "outputs": [
    {
     "data": {
      "text/plain": [
       "20"
      ]
     },
     "execution_count": 9,
     "metadata": {},
     "output_type": "execute_result"
    }
   ],
   "source": [
    "sess.run(addn)"
   ]
  },
  {
   "cell_type": "code",
   "execution_count": 10,
   "metadata": {},
   "outputs": [
    {
     "data": {
      "text/plain": [
       "18"
      ]
     },
     "execution_count": 10,
     "metadata": {},
     "output_type": "execute_result"
    }
   ],
   "source": [
    "sess.run(mul)"
   ]
  },
  {
   "cell_type": "code",
   "execution_count": 11,
   "metadata": {},
   "outputs": [],
   "source": [
    "writer = tf.summary.FileWriter('./m2_example1 ', sess.graph)"
   ]
  },
  {
   "cell_type": "code",
   "execution_count": 12,
   "metadata": {},
   "outputs": [],
   "source": [
    " writer.close()"
   ]
  },
  {
   "cell_type": "code",
   "execution_count": 13,
   "metadata": {},
   "outputs": [],
   "source": [
    "sess.close()"
   ]
  },
  {
   "cell_type": "code",
   "execution_count": 14,
   "metadata": {},
   "outputs": [],
   "source": [
    "exit()"
   ]
  },
  {
   "cell_type": "code",
   "execution_count": 1,
   "metadata": {},
   "outputs": [
    {
     "name": "stdout",
     "output_type": "stream",
     "text": [
      " Volume in drive C has no label.\n",
      " Volume Serial Number is F20D-C1DE\n",
      "\n",
      " Directory of C:\\Users\\Moinul\n",
      "\n",
      "09-Jun-20  04:18 PM    <DIR>          .\n",
      "09-Jun-20  04:18 PM    <DIR>          ..\n",
      "27-Oct-19  09:28 PM    <DIR>          .anaconda\n",
      "08-Jun-20  04:01 AM    <DIR>          .conda\n",
      "07-Jun-20  10:10 PM                43 .condarc\n",
      "28-Mar-20  03:32 AM    <DIR>          .config\n",
      "28-Mar-20  03:12 AM    <DIR>          .idlerc\n",
      "09-Jun-20  03:45 PM    <DIR>          .ipynb_checkpoints\n",
      "27-Oct-19  09:33 PM    <DIR>          .ipython\n",
      "28-Oct-19  03:17 PM    <DIR>          .jupyter\n",
      "27-Oct-19  10:39 PM    <DIR>          .keras\n",
      "10-Nov-19  04:40 PM    <DIR>          .matplotlib\n",
      "30-May-20  07:30 PM                 0 .python_history\n",
      "14-Nov-19  10:35 PM    <DIR>          .spyder-py3\n",
      "30-May-20  07:38 PM            56,420 01-ExploringDatasets.ipynb\n",
      "31-May-20  01:20 PM           278,795 02-ExploringTheCaliforniaHousingDataset.ipynb\n",
      "01-Jun-20  06:30 PM           258,167 03-LinearRegressionForPricePrediction.ipynb\n",
      "13-May-20  04:21 PM    <DIR>          3D Objects\n",
      "28-Mar-20  03:58 AM    <DIR>          Anaconda3\n",
      "31-May-20  12:46 PM            20,780 Boston Housing Prices Datasets.ipynb\n",
      "13-May-20  04:22 PM    <DIR>          Contacts\n",
      "31-May-20  01:26 PM    <DIR>          datasets\n",
      "20-May-20  01:29 PM    <DIR>          Desktop\n",
      "24-May-20  11:26 PM    <DIR>          Documents\n",
      "08-Jun-20  08:52 PM    <DIR>          Downloads\n",
      "31-May-20  04:40 PM           278,171 Exploring_California_Housing_Dataset.ipynb\n",
      "31-May-20  01:03 AM            26,935 ExploringDataset.ipynb\n",
      "30-May-20  07:30 PM             3,362 ExploringDatasets.ipynb\n",
      "13-May-20  04:22 PM    <DIR>          Favorites\n",
      "31-May-20  12:57 PM            47,813 HandwrittenDigitDatasets.ipynb\n",
      "01-Jun-20  07:35 PM           238,326 House Price Prediction using Linear Regression.ipynb\n",
      "31-May-20  01:25 PM         1,423,529 housing.csv\n",
      "13-May-20  04:22 PM    <DIR>          Links\n",
      "09-Jun-20  04:11 PM    <DIR>          m2_example\n",
      "09-Jun-20  04:17 PM    <DIR>          m2_example1\n",
      "13-May-20  04:22 PM    <DIR>          Music\n",
      "30-Sep-19  04:57 AM    <DIR>          OneDrive\n",
      "13-May-20  04:22 PM    <DIR>          Pictures\n",
      "13-May-20  04:22 PM    <DIR>          Saved Games\n",
      "31-May-20  01:17 AM    <DIR>          scikit_learn_data\n",
      "13-May-20  04:22 PM    <DIR>          Searches\n",
      "09-Jun-20  04:18 PM             6,702 TensrFlow Basics.ipynb\n",
      "13-May-20  04:22 PM    <DIR>          Videos\n",
      "              13 File(s)      2,639,043 bytes\n",
      "              30 Dir(s)  32,985,698,304 bytes free\n"
     ]
    }
   ],
   "source": [
    "ls"
   ]
  },
  {
   "cell_type": "code",
   "execution_count": 2,
   "metadata": {},
   "outputs": [
    {
     "ename": "SyntaxError",
     "evalue": "can't assign to operator (<ipython-input-2-633a7850316a>, line 1)",
     "output_type": "error",
     "traceback": [
      "\u001b[1;36m  File \u001b[1;32m\"<ipython-input-2-633a7850316a>\"\u001b[1;36m, line \u001b[1;32m1\u001b[0m\n\u001b[1;33m    tensorboard --logdir=\"m2_example1\"\u001b[0m\n\u001b[1;37m                                      ^\u001b[0m\n\u001b[1;31mSyntaxError\u001b[0m\u001b[1;31m:\u001b[0m can't assign to operator\n"
     ]
    }
   ],
   "source": [
    "tensorboard --logdir=\"m2_example1\""
   ]
  },
  {
   "cell_type": "code",
   "execution_count": null,
   "metadata": {},
   "outputs": [],
   "source": []
  }
 ],
 "metadata": {
  "kernelspec": {
   "display_name": "Python 3",
   "language": "python",
   "name": "python3"
  },
  "language_info": {
   "codemirror_mode": {
    "name": "ipython",
    "version": 3
   },
   "file_extension": ".py",
   "mimetype": "text/x-python",
   "name": "python",
   "nbconvert_exporter": "python",
   "pygments_lexer": "ipython3",
   "version": "3.7.3"
  }
 },
 "nbformat": 4,
 "nbformat_minor": 2
}
