{
  "nbformat": 4,
  "nbformat_minor": 0,
  "metadata": {
    "colab": {
      "name": "TF 2.ipynb",
      "provenance": [],
      "authorship_tag": "ABX9TyN2fdz0lzGMzu1CeBedTw/H",
      "include_colab_link": true
    },
    "kernelspec": {
      "name": "python3",
      "display_name": "Python 3"
    }
  },
  "cells": [
    {
      "cell_type": "markdown",
      "metadata": {
        "id": "view-in-github",
        "colab_type": "text"
      },
      "source": [
        "<a href=\"https://colab.research.google.com/github/moinul7002/TensorFlow-Basics/blob/main/TF_2.ipynb\" target=\"_parent\"><img src=\"https://colab.research.google.com/assets/colab-badge.svg\" alt=\"Open In Colab\"/></a>"
      ]
    },
    {
      "cell_type": "code",
      "metadata": {
        "id": "ykrkWeklB0hg"
      },
      "source": [
        "import tensorflow as tf"
      ],
      "execution_count": null,
      "outputs": []
    },
    {
      "cell_type": "code",
      "metadata": {
        "id": "dcHjoHIjQjng"
      },
      "source": [
        "hello = tf.constant('Hello, TensorFlow World!')"
      ],
      "execution_count": null,
      "outputs": []
    },
    {
      "cell_type": "code",
      "metadata": {
        "id": "5ALtBzP6QuZH",
        "colab": {
          "base_uri": "https://localhost:8080/",
          "height": 34
        },
        "outputId": "657cc3e6-bc36-4857-d5c1-4bf0501de929"
      },
      "source": [
        "tf.print(hello)"
      ],
      "execution_count": null,
      "outputs": [
        {
          "output_type": "stream",
          "text": [
            "Hello, TensorFlow World!\n"
          ],
          "name": "stdout"
        }
      ]
    },
    {
      "cell_type": "code",
      "metadata": {
        "id": "GbaYnuHkej20"
      },
      "source": [
        "a = tf.constant(6, name='constant_a')\n",
        "b = tf.constant(3, name='constant_b')\n",
        "c = tf.constant(10, name='constant_c')\n",
        "d = tf.constant(5, name='constant_d')"
      ],
      "execution_count": null,
      "outputs": []
    },
    {
      "cell_type": "code",
      "metadata": {
        "id": "POHqwyh9eoeg"
      },
      "source": [
        "mul = tf.multiply(a,b, name='mul')\n",
        "div = tf.divide(c,d, name='div')\n"
      ],
      "execution_count": null,
      "outputs": []
    },
    {
      "cell_type": "code",
      "metadata": {
        "id": "aDu45xcASHeN",
        "colab": {
          "base_uri": "https://localhost:8080/",
          "height": 34
        },
        "outputId": "8b45cd92-20d5-462c-dce3-bc11430ebbbd"
      },
      "source": [
        "print(div)"
      ],
      "execution_count": null,
      "outputs": [
        {
          "output_type": "stream",
          "text": [
            "tf.Tensor(2.0, shape=(), dtype=float64)\n"
          ],
          "name": "stdout"
        }
      ]
    },
    {
      "cell_type": "code",
      "metadata": {
        "id": "7NVhaEV8SQNV",
        "colab": {
          "base_uri": "https://localhost:8080/",
          "height": 34
        },
        "outputId": "e5471609-ea4b-4e82-8a6b-3308001e378a"
      },
      "source": [
        "print(mul)"
      ],
      "execution_count": null,
      "outputs": [
        {
          "output_type": "stream",
          "text": [
            "tf.Tensor(18, shape=(), dtype=int32)\n"
          ],
          "name": "stdout"
        }
      ]
    },
    {
      "cell_type": "code",
      "metadata": {
        "id": "idK7qDR9f16H"
      },
      "source": [
        "addn = tf.add(mul, tf.cast(div, tf.int32), name='addn')"
      ],
      "execution_count": null,
      "outputs": []
    },
    {
      "cell_type": "code",
      "metadata": {
        "id": "DdLS6EwgSh68",
        "colab": {
          "base_uri": "https://localhost:8080/",
          "height": 34
        },
        "outputId": "857adc91-7387-4b94-a6a7-29d82dc3da61"
      },
      "source": [
        "print(addn)"
      ],
      "execution_count": null,
      "outputs": [
        {
          "output_type": "stream",
          "text": [
            "tf.Tensor(20, shape=(), dtype=int32)\n"
          ],
          "name": "stdout"
        }
      ]
    },
    {
      "cell_type": "code",
      "metadata": {
        "id": "xjXeoXWqSt51"
      },
      "source": [
        "sess = tf.compat.v1.Session()\n"
      ],
      "execution_count": null,
      "outputs": []
    },
    {
      "cell_type": "code",
      "metadata": {
        "id": "q_5u82hSUH1-",
        "colab": {
          "base_uri": "https://localhost:8080/",
          "height": 34
        },
        "outputId": "e5dc24c6-4c3b-4882-f89c-2168f37490a9"
      },
      "source": [
        "print(tf.__version__)"
      ],
      "execution_count": null,
      "outputs": [
        {
          "output_type": "stream",
          "text": [
            "2.2.0\n"
          ],
          "name": "stdout"
        }
      ]
    },
    {
      "cell_type": "code",
      "metadata": {
        "id": "9Uilo5h-TAxc",
        "colab": {
          "base_uri": "https://localhost:8080/",
          "height": 34
        },
        "outputId": "1b982b29-1463-46a6-f81d-490ef793637b"
      },
      "source": [
        "tf.print(addn)"
      ],
      "execution_count": null,
      "outputs": [
        {
          "output_type": "stream",
          "text": [
            "20\n"
          ],
          "name": "stdout"
        }
      ]
    },
    {
      "cell_type": "code",
      "metadata": {
        "id": "Fi7yeFXOUjGI",
        "colab": {
          "base_uri": "https://localhost:8080/",
          "height": 51
        },
        "outputId": "1174a816-165d-4d47-ad93-717e04662975"
      },
      "source": [
        "tf.print(mul)\n",
        "tf.print(div)"
      ],
      "execution_count": null,
      "outputs": [
        {
          "output_type": "stream",
          "text": [
            "18\n",
            "2\n"
          ],
          "name": "stdout"
        }
      ]
    },
    {
      "cell_type": "code",
      "metadata": {
        "id": "PQCootFp7N4d"
      },
      "source": [
        "a = tf.constant(6.5, name='constant_a')\n",
        "b = tf.constant(3.4, name='constant_b')\n",
        "c = tf.constant(3.0, name='constant_c')\n",
        "d = tf.constant(100.2, name='constant_d')"
      ],
      "execution_count": null,
      "outputs": []
    },
    {
      "cell_type": "code",
      "metadata": {
        "id": "g6VS_AyR9YRD"
      },
      "source": [
        "square = tf.square(a, name ='square_a')"
      ],
      "execution_count": null,
      "outputs": []
    },
    {
      "cell_type": "code",
      "metadata": {
        "id": "CwFreXXZ9mav"
      },
      "source": [
        "power = tf.pow(b,c, name ='power_b_c')"
      ],
      "execution_count": null,
      "outputs": []
    },
    {
      "cell_type": "code",
      "metadata": {
        "id": "g3G5NTXO9tVH"
      },
      "source": [
        "sqrt = tf.sqrt(d, name ='sqrt_a')"
      ],
      "execution_count": null,
      "outputs": []
    },
    {
      "cell_type": "code",
      "metadata": {
        "id": "fRL2AkQy91ba"
      },
      "source": [
        "final_sum = tf.add_n([square, power, sqrt], name = 'final_sum')"
      ],
      "execution_count": null,
      "outputs": []
    },
    {
      "cell_type": "code",
      "metadata": {
        "id": "7WYykUok-cMI",
        "colab": {
          "base_uri": "https://localhost:8080/",
          "height": 34
        },
        "outputId": "25c063a5-e11e-4ec0-a2cc-df5f700a9dd8"
      },
      "source": [
        "tf.print('Square of a: ', square)"
      ],
      "execution_count": null,
      "outputs": [
        {
          "output_type": "stream",
          "text": [
            "Square of a:  42.25\n"
          ],
          "name": "stdout"
        }
      ]
    },
    {
      "cell_type": "code",
      "metadata": {
        "id": "KhUpjtlS-zd0",
        "colab": {
          "base_uri": "https://localhost:8080/",
          "height": 34
        },
        "outputId": "d3106658-9172-4eff-e4c3-fa133bb8eb3b"
      },
      "source": [
        "tf.print('Power of b^c: ', power)"
      ],
      "execution_count": null,
      "outputs": [
        {
          "output_type": "stream",
          "text": [
            "Power of b^c:  39.3040047\n"
          ],
          "name": "stdout"
        }
      ]
    },
    {
      "cell_type": "code",
      "metadata": {
        "id": "DrKK0YfF-6N_",
        "colab": {
          "base_uri": "https://localhost:8080/",
          "height": 34
        },
        "outputId": "79c0be31-8ee1-461f-923a-3b3230d46cdd"
      },
      "source": [
        "tf.print('Square root of d: ', sqrt)"
      ],
      "execution_count": null,
      "outputs": [
        {
          "output_type": "stream",
          "text": [
            "Square root of d:  10.0099945\n"
          ],
          "name": "stdout"
        }
      ]
    },
    {
      "cell_type": "code",
      "metadata": {
        "id": "pPgpA12-_S7f",
        "colab": {
          "base_uri": "https://localhost:8080/",
          "height": 34
        },
        "outputId": "f5a3a5df-047f-4505-8c16-9516c7273a02"
      },
      "source": [
        "tf.print('Final Sum: ', final_sum)"
      ],
      "execution_count": null,
      "outputs": [
        {
          "output_type": "stream",
          "text": [
            "Final Sum:  91.5639954\n"
          ],
          "name": "stdout"
        }
      ]
    },
    {
      "cell_type": "code",
      "metadata": {
        "id": "MMY29IDk_bwS"
      },
      "source": [
        "sess.close()"
      ],
      "execution_count": null,
      "outputs": []
    },
    {
      "cell_type": "code",
      "metadata": {
        "id": "XpM29UatD24Q"
      },
      "source": [
        "zeroD = tf.constant(5)"
      ],
      "execution_count": null,
      "outputs": []
    },
    {
      "cell_type": "code",
      "metadata": {
        "id": "UnXbta9eD-Q5",
        "colab": {
          "base_uri": "https://localhost:8080/",
          "height": 34
        },
        "outputId": "16028c36-efd3-4cdd-d59b-3310374c199f"
      },
      "source": [
        "tf.rank(zeroD)"
      ],
      "execution_count": null,
      "outputs": [
        {
          "output_type": "execute_result",
          "data": {
            "text/plain": [
              "<tf.Tensor: shape=(), dtype=int32, numpy=0>"
            ]
          },
          "metadata": {
            "tags": []
          },
          "execution_count": 42
        }
      ]
    },
    {
      "cell_type": "code",
      "metadata": {
        "id": "gDa5d5xZFXL8",
        "colab": {
          "base_uri": "https://localhost:8080/",
          "height": 34
        },
        "outputId": "2030f966-985a-459b-b031-9ca9d35b8049"
      },
      "source": [
        "oneD = tf.constant(['How','are', 'you?'])\n",
        "tf.rank(oneD)"
      ],
      "execution_count": null,
      "outputs": [
        {
          "output_type": "execute_result",
          "data": {
            "text/plain": [
              "<tf.Tensor: shape=(), dtype=int32, numpy=1>"
            ]
          },
          "metadata": {
            "tags": []
          },
          "execution_count": 43
        }
      ]
    },
    {
      "cell_type": "code",
      "metadata": {
        "id": "GEfpAuSJFjYs",
        "colab": {
          "base_uri": "https://localhost:8080/",
          "height": 34
        },
        "outputId": "fcc52769-b23a-412a-903f-7a973a5da24e"
      },
      "source": [
        "twoD = tf.constant([[1.0,2.3],[1.5,2.9]])\n",
        "tf.rank(twoD)"
      ],
      "execution_count": null,
      "outputs": [
        {
          "output_type": "execute_result",
          "data": {
            "text/plain": [
              "<tf.Tensor: shape=(), dtype=int32, numpy=2>"
            ]
          },
          "metadata": {
            "tags": []
          },
          "execution_count": 44
        }
      ]
    },
    {
      "cell_type": "code",
      "metadata": {
        "id": "qO3aY70sFuvF",
        "colab": {
          "base_uri": "https://localhost:8080/",
          "height": 34
        },
        "outputId": "95b02d95-de38-4ee1-fa4b-ec651b02a122"
      },
      "source": [
        "threeD = tf.constant([[[1,2],[3,4]],[[1,2],[3,4]]])\n",
        "tf.rank(threeD)\n"
      ],
      "execution_count": null,
      "outputs": [
        {
          "output_type": "execute_result",
          "data": {
            "text/plain": [
              "<tf.Tensor: shape=(), dtype=int32, numpy=3>"
            ]
          },
          "metadata": {
            "tags": []
          },
          "execution_count": 48
        }
      ]
    },
    {
      "cell_type": "code",
      "metadata": {
        "id": "QeMEsJxmLuv_",
        "colab": {
          "base_uri": "https://localhost:8080/",
          "height": 34
        },
        "outputId": "34126d7b-52e7-4617-f62e-23439292d6eb"
      },
      "source": [
        "tf.shape(threeD)"
      ],
      "execution_count": null,
      "outputs": [
        {
          "output_type": "execute_result",
          "data": {
            "text/plain": [
              "<tf.Tensor: shape=(3,), dtype=int32, numpy=array([2, 2, 2], dtype=int32)>"
            ]
          },
          "metadata": {
            "tags": []
          },
          "execution_count": 47
        }
      ]
    },
    {
      "cell_type": "code",
      "metadata": {
        "id": "j7bN_4xlCw_b"
      },
      "source": [
        "tf.compat.v1.disable_eager_execution()"
      ],
      "execution_count": null,
      "outputs": []
    },
    {
      "cell_type": "code",
      "metadata": {
        "id": "ulpMVkT3BY8K"
      },
      "source": [
        "x = tf.compat.v1.placeholder(tf.int32, shape=[3], name='x')"
      ],
      "execution_count": null,
      "outputs": []
    },
    {
      "cell_type": "code",
      "metadata": {
        "id": "SuVgF-M2C5ny"
      },
      "source": [
        "y = tf.compat.v1.placeholder(tf.int32, shape=[3], name='y')"
      ],
      "execution_count": null,
      "outputs": []
    },
    {
      "cell_type": "code",
      "metadata": {
        "id": "nuZ0mc41DDNv"
      },
      "source": [
        "sum_x = tf.reduce_sum(x, name = 'sum_x')"
      ],
      "execution_count": null,
      "outputs": []
    },
    {
      "cell_type": "code",
      "metadata": {
        "id": "Y7UZN1pQDU0d"
      },
      "source": [
        "prod_y= tf.reduce_prod(y, name = 'prod_y')"
      ],
      "execution_count": null,
      "outputs": []
    },
    {
      "cell_type": "code",
      "metadata": {
        "id": "0eeQP5s3Di4q"
      },
      "source": [
        "final_div = tf.divide(sum_x, prod_y, name = 'final_div')"
      ],
      "execution_count": null,
      "outputs": []
    },
    {
      "cell_type": "code",
      "metadata": {
        "id": "JncKJrBQIXTw"
      },
      "source": [
        "final_mean = tf.reduce_mean([sum_x, prod_y], name = 'final_mean')"
      ],
      "execution_count": null,
      "outputs": []
    },
    {
      "cell_type": "code",
      "metadata": {
        "id": "2twxXw70K07l"
      },
      "source": [
        "sess = tf.compat.v1.Session()"
      ],
      "execution_count": null,
      "outputs": []
    },
    {
      "cell_type": "code",
      "metadata": {
        "id": "ijvKDiCjItRS",
        "colab": {
          "base_uri": "https://localhost:8080/",
          "height": 34
        },
        "outputId": "f67c1f1a-7b75-4880-ac58-fe7e30ab6ee7"
      },
      "source": [
        "print('Sum(x): ', sess.run(sum_x, feed_dict = {x: [100, 200, 300]}))"
      ],
      "execution_count": null,
      "outputs": [
        {
          "output_type": "stream",
          "text": [
            "Sum(x):  600\n"
          ],
          "name": "stdout"
        }
      ]
    },
    {
      "cell_type": "code",
      "metadata": {
        "id": "hjiwsbriLV8K",
        "colab": {
          "base_uri": "https://localhost:8080/",
          "height": 34
        },
        "outputId": "4a88647f-de0c-4d1b-a4b9-48ee6bfed9ed"
      },
      "source": [
        "print('Prod(y): ', sess.run(prod_y, feed_dict = {y: [1,2,3]}))"
      ],
      "execution_count": null,
      "outputs": [
        {
          "output_type": "stream",
          "text": [
            "Prod(y):  6\n"
          ],
          "name": "stdout"
        }
      ]
    },
    {
      "cell_type": "code",
      "metadata": {
        "id": "Wh1vigp3POiZ",
        "colab": {
          "base_uri": "https://localhost:8080/",
          "height": 34
        },
        "outputId": "04752eb9-ad32-4b3a-b77c-5777b1fbda2f"
      },
      "source": [
        "print('Sum(x) / Prod(y): ', sess.run(final_div, feed_dict = {x: [10,20,30], y: [1,2,3]}))"
      ],
      "execution_count": null,
      "outputs": [
        {
          "output_type": "stream",
          "text": [
            " Sum(x) / Prod(y):  10.0\n"
          ],
          "name": "stdout"
        }
      ]
    },
    {
      "cell_type": "code",
      "metadata": {
        "id": "SBR2R_K3ZLMD",
        "colab": {
          "base_uri": "https://localhost:8080/",
          "height": 34
        },
        "outputId": "d60d122b-1646-4db0-a3b1-8af09f17b551"
      },
      "source": [
        "print('mean(Sum(x) / Prod(y)): ', sess.run(final_mean, feed_dict = {x: [1000,2000,3000], y: [10,20,30]}))"
      ],
      "execution_count": null,
      "outputs": [
        {
          "output_type": "stream",
          "text": [
            "mean(Sum(x) / Prod(y)):  6000\n"
          ],
          "name": "stdout"
        }
      ]
    },
    {
      "cell_type": "markdown",
      "metadata": {
        "id": "zcGkrKpmKDNJ"
      },
      "source": [
        "# y = Wx + b\n",
        "# y_ = x - b"
      ]
    },
    {
      "cell_type": "code",
      "metadata": {
        "id": "YfxS4-DVJfX6"
      },
      "source": [
        "W = tf.constant([10,100], name = 'const_W')"
      ],
      "execution_count": null,
      "outputs": []
    },
    {
      "cell_type": "code",
      "metadata": {
        "id": "oRJSI3TyJtNt"
      },
      "source": [
        "x = tf.compat.v1.placeholder(tf.int32, name = 'x')"
      ],
      "execution_count": null,
      "outputs": []
    },
    {
      "cell_type": "code",
      "metadata": {
        "id": "YYKCbxKqJ3HS"
      },
      "source": [
        "b = tf.compat.v1.placeholder(tf.int32, name = 'b')"
      ],
      "execution_count": null,
      "outputs": []
    },
    {
      "cell_type": "code",
      "metadata": {
        "id": "clPsm7a3KTy7"
      },
      "source": [
        "Wx = tf.multiply(W,x, name = 'Wx')"
      ],
      "execution_count": null,
      "outputs": []
    },
    {
      "cell_type": "code",
      "metadata": {
        "id": "_rHFGgO6Kbrz"
      },
      "source": [
        "y = tf.add(Wx,b, name = 'y')"
      ],
      "execution_count": null,
      "outputs": []
    },
    {
      "cell_type": "code",
      "metadata": {
        "id": "Nh4CiA27VJQW"
      },
      "source": [
        "y_ = tf.subtract(x,b, name = 'y_')"
      ],
      "execution_count": null,
      "outputs": []
    },
    {
      "cell_type": "code",
      "metadata": {
        "id": "96JQrVL4Lkq6",
        "colab": {
          "base_uri": "https://localhost:8080/",
          "height": 85
        },
        "outputId": "f1a7476f-6919-4e4a-a05e-bb0ad416f2de"
      },
      "source": [
        "with tf.compat.v1.Session() as sess:\n",
        "    print('Intermediate Result: Wx = ', sess.run(Wx, feed_dict = {x: [3,33]}))\n",
        "    print('Intermediate Result: Wx + b = ', sess.run(y, feed_dict = {x: [4,40], b: [7,9]}))\n",
        "    print('Intermediate Specified: Wx + b = ', sess.run(y, feed_dict = {Wx: [100,1000], b: [7,9]}))\n",
        "    print('Two Results: [Wx + b, x - b] = ', sess.run(fetches = [y, y_], feed_dict = {x: [4,40], b: [7,9]}))    \n"
      ],
      "execution_count": null,
      "outputs": [
        {
          "output_type": "stream",
          "text": [
            "Intermediate Result: Wx =  [  30 3300]\n",
            "Intermediate Result: Wx + b =  [  47 4009]\n",
            "Intermediate Specified: Wx + b =  [ 107 1009]\n",
            "Two Results: [Wx + b, x - b] =  [array([  47, 4009], dtype=int32), array([-3, 31], dtype=int32)]\n"
          ],
          "name": "stdout"
        }
      ]
    },
    {
      "cell_type": "code",
      "metadata": {
        "id": "U2W4fU-hW6hP"
      },
      "source": [
        "W = tf.Variable([2.4, 4.0], tf.float32, name = 'var_W')\n",
        "\n",
        "x = tf.compat.v1.placeholder(tf.float32, name = 'x')\n",
        "b = tf.Variable([6.0, 10.0], tf.float32, name = 'var_b')\n",
        "\n",
        "y = W*x + b"
      ],
      "execution_count": null,
      "outputs": []
    },
    {
      "cell_type": "code",
      "metadata": {
        "id": "6ev94r89XxBu"
      },
      "source": [
        "init = tf.compat.v1.global_variables_initializer()"
      ],
      "execution_count": null,
      "outputs": []
    },
    {
      "cell_type": "code",
      "metadata": {
        "id": "oFf5S9rrYgDb",
        "colab": {
          "base_uri": "https://localhost:8080/",
          "height": 34
        },
        "outputId": "55d7898d-b5f4-431c-e3ae-48a7d4f815e6"
      },
      "source": [
        "with tf.compat.v1.Session() as sess:\n",
        "    sess.run(init)\n",
        "\n",
        "    print('Final Result: Wx + b = ', sess.run(y, feed_dict = {x: [10, 100]}))"
      ],
      "execution_count": null,
      "outputs": [
        {
          "output_type": "stream",
          "text": [
            "Final Result: Wx + b =  [ 30. 410.]\n"
          ],
          "name": "stdout"
        }
      ]
    },
    {
      "cell_type": "code",
      "metadata": {
        "id": "3g0acn6jZFyj"
      },
      "source": [
        "s = W*x\n",
        "\n",
        "init = tf.compat.v1.variables_initializer([W]) \n",
        "# initialize only those variables that you might need"
      ],
      "execution_count": null,
      "outputs": []
    },
    {
      "cell_type": "code",
      "metadata": {
        "id": "7Df61eZ3Zdza",
        "colab": {
          "base_uri": "https://localhost:8080/",
          "height": 34
        },
        "outputId": "886e0723-6db3-470f-d783-a0ba98bb56ea"
      },
      "source": [
        "with tf.compat.v1.Session() as sess:\n",
        "    sess.run(init)\n",
        "\n",
        "    print('Result: Wx = ', sess.run(s, feed_dict = {x: [10, 100]}))    "
      ],
      "execution_count": null,
      "outputs": [
        {
          "output_type": "stream",
          "text": [
            "Result: Wx =  [ 24. 400.]\n"
          ],
          "name": "stdout"
        }
      ]
    },
    {
      "cell_type": "code",
      "metadata": {
        "id": "Tfg80nAvjV68"
      },
      "source": [
        "number = tf.Variable(2)\n",
        "multiplier = tf.Variable(1)"
      ],
      "execution_count": null,
      "outputs": []
    },
    {
      "cell_type": "code",
      "metadata": {
        "id": "ja_ebqrJjw9W"
      },
      "source": [
        "init = tf.compat.v1.global_variables_initializer()"
      ],
      "execution_count": null,
      "outputs": []
    },
    {
      "cell_type": "code",
      "metadata": {
        "id": "uDTQA4jej2YY"
      },
      "source": [
        "result = number.assign(tf.multiply(number, multiplier))"
      ],
      "execution_count": null,
      "outputs": []
    },
    {
      "cell_type": "code",
      "metadata": {
        "id": "UVtdwadXkRza",
        "colab": {
          "base_uri": "https://localhost:8080/",
          "height": 357
        },
        "outputId": "b1b67d92-43cf-47b8-cf87-c07c33c7cb51"
      },
      "source": [
        "with tf.compat.v1.Session() as sess:\n",
        "    sess.run(init)\n",
        "\n",
        "    for  i in range(10):\n",
        "        print('Result: ', sess.run(result))\n",
        "        print('Increment Multiplier: ', sess.run(multiplier.assign_add(1)))"
      ],
      "execution_count": null,
      "outputs": [
        {
          "output_type": "stream",
          "text": [
            "Result:  2\n",
            "Increment Multiplier:  2\n",
            "Result:  4\n",
            "Increment Multiplier:  3\n",
            "Result:  12\n",
            "Increment Multiplier:  4\n",
            "Result:  48\n",
            "Increment Multiplier:  5\n",
            "Result:  240\n",
            "Increment Multiplier:  6\n",
            "Result:  1440\n",
            "Increment Multiplier:  7\n",
            "Result:  10080\n",
            "Increment Multiplier:  8\n",
            "Result:  80640\n",
            "Increment Multiplier:  9\n",
            "Result:  725760\n",
            "Increment Multiplier:  10\n",
            "Result:  7257600\n",
            "Increment Multiplier:  11\n"
          ],
          "name": "stdout"
        }
      ]
    },
    {
      "cell_type": "code",
      "metadata": {
        "id": "2ZcYJNl4mDuT"
      },
      "source": [
        "g = tf.Graph()"
      ],
      "execution_count": null,
      "outputs": []
    },
    {
      "cell_type": "code",
      "metadata": {
        "id": "xVl384TjmHzx",
        "colab": {
          "base_uri": "https://localhost:8080/",
          "height": 34
        },
        "outputId": "2e041a73-9cad-4eee-b101-77f15b7a9c67"
      },
      "source": [
        "with g.as_default():\n",
        "    with tf.compat.v1.Session() as sess:\n",
        "        #y = Ax + b\n",
        "        A = tf.constant([4,7], tf.int32, name = 'A')\n",
        "\n",
        "        x = tf.compat.v1.placeholder(tf.int32, name = 'x')\n",
        "\n",
        "        b = tf.constant([3,4], tf.int32, name = 'b')\n",
        "\n",
        "        y= A * x + b\n",
        "\n",
        "        print(sess.run(y, feed_dict = {x: [10,100]}))\n",
        "\n",
        "        assert y.graph is g"
      ],
      "execution_count": null,
      "outputs": [
        {
          "output_type": "stream",
          "text": [
            "[ 43 704]\n"
          ],
          "name": "stdout"
        }
      ]
    },
    {
      "cell_type": "code",
      "metadata": {
        "id": "hD7j1JTkoeef",
        "colab": {
          "base_uri": "https://localhost:8080/",
          "height": 34
        },
        "outputId": "5baa47c2-3b3f-4b8d-95ec-31d8cc84142c"
      },
      "source": [
        "g2 = tf.Graph()\n",
        "\n",
        "with g2.as_default():\n",
        "    with tf.compat.v1.Session() as sess:\n",
        "        A = tf.constant([6,7], tf.int32, name = 'A')\n",
        "\n",
        "        x = tf.compat.v1.placeholder(tf.int32, name = 'x')\n",
        "\n",
        "        y = tf.pow(A,x, name = 'y')\n",
        "\n",
        "        print(sess.run(y, feed_dict = {x: [3,7]}))\n",
        "\n",
        "        assert y.graph is g2"
      ],
      "execution_count": null,
      "outputs": [
        {
          "output_type": "stream",
          "text": [
            "[   216 823543]\n"
          ],
          "name": "stdout"
        }
      ]
    },
    {
      "cell_type": "code",
      "metadata": {
        "id": "DCjdsfdipq8W",
        "colab": {
          "base_uri": "https://localhost:8080/",
          "height": 34
        },
        "outputId": "75f0f934-2c17-4024-b2f4-45b8cde2982a"
      },
      "source": [
        "default_graph = tf.compat.v1.get_default_graph()\n",
        "with tf.compat.v1.Session() as sess:\n",
        "    A = tf.constant([6,7], tf.int32, name = 'A')\n",
        "\n",
        "    x = tf.compat.v1.placeholder(tf.int32, name = 'x')\n",
        "\n",
        "    y = A + x\n",
        "\n",
        "    print(sess.run(y, feed_dict = {x: [3,7]}))\n",
        "\n",
        "    assert y.graph is default_graph"
      ],
      "execution_count": null,
      "outputs": [
        {
          "output_type": "stream",
          "text": [
            "[ 9 14]\n"
          ],
          "name": "stdout"
        }
      ]
    },
    {
      "cell_type": "code",
      "metadata": {
        "id": "R1zD4clOsJln",
        "colab": {
          "base_uri": "https://localhost:8080/",
          "height": 88
        },
        "outputId": "1a9f23a4-50d5-4af8-f6ca-2a881b112723"
      },
      "source": [
        "sess = tf.compat.v1.InteractiveSession()\n",
        "\n",
        "A = tf.constant([4], tf.int32, name = 'A')\n",
        "\n",
        "x = tf.compat.v1.placeholder(tf.int32, name = 'x')\n",
        "\n",
        "y = A * x\n",
        "\n",
        "print(y.eval(feed_dict = {x: [8]}))\n",
        "\n",
        "sess.close()"
      ],
      "execution_count": null,
      "outputs": [
        {
          "output_type": "stream",
          "text": [
            "[32]\n"
          ],
          "name": "stdout"
        },
        {
          "output_type": "stream",
          "text": [
            "/usr/local/lib/python3.6/dist-packages/tensorflow/python/client/session.py:1751: UserWarning: An interactive session is already active. This can cause out-of-memory errors in some cases. You must explicitly call `InteractiveSession.close()` to release resources held by the other session(s).\n",
            "  warnings.warn('An interactive session is already active. This can '\n"
          ],
          "name": "stderr"
        }
      ]
    },
    {
      "cell_type": "code",
      "metadata": {
        "id": "jjxYLc8fkDWz"
      },
      "source": [
        ""
      ],
      "execution_count": null,
      "outputs": []
    }
  ]
}